{
 "cells": [
  {
   "cell_type": "code",
   "execution_count": 1,
   "metadata": {},
   "outputs": [],
   "source": [
    "tickets = [\"1\", \"2\", \"3\",\"4\", \"5\", \"6\", \"7\", \"8\", \"9\", \"10\" ]\n",
    "parkingSpaces = []"
   ]
  },
  {
   "cell_type": "code",
   "execution_count": 9,
   "metadata": {},
   "outputs": [
    {
     "name": "stdout",
     "output_type": "stream",
     "text": [
      "['nate welter', 'gabby campos', 'alax foreman']\n"
     ]
    }
   ],
   "source": [
    "# givien 2 lists of first name and last names, merge the name together into a new list\n",
    "\n",
    "l_1 = ['nate', 'gabby', 'alax']\n",
    "l_2 = ['welter', 'campos', 'foreman']\n",
    "\n",
    "def mergeNames(first, last): #this is the argument. You are telling pythong to \"merge\" first and last name\n",
    "    new = []\n",
    "    for i in range(len(first)): \n",
    "        new.append(first[i] + \" \" +last[i])\n",
    "    print(new)\n",
    "\n",
    "mergeNames(l_1,l_2) #this is a parameter"
   ]
  },
  {
   "cell_type": "code",
   "execution_count": null,
   "metadata": {},
   "outputs": [],
   "source": [
    "class cart():\n",
    "    \n",
    "    def __init__(self,items):\n",
    "        self.items=items\n",
    "\n",
    "#     create method that shows the cart items\n",
    "    def showcart(self):\n",
    "        clear_output\n",
    "        print (\"You have items in your cart!\")\n",
    "        for item in self.items:\n",
    "            print (items)\n",
    "            \n",
    "#     add to items to list with addtocart method\n",
    "    def addtocart(self):\n",
    "        clear_output\n",
    "        products = input (\"What would you like to add?\")\n",
    "        self.items.append(prouducts)\n",
    "        \n",
    "#     add to list with removefromcart method\n",
    "    def removefromcart(self):\n",
    "        clear_output\n",
    "        item = input(\"what item do youw ant to remove?\")\n",
    "        self.items.remove(item)\n",
    "        \n",
    "ShoppingCart = cart \n",
    "\n",
    "create a funciton to run the shoppingCart (cart) methods\n",
    "\n",
    "def run():\n",
    "    while True: \n",
    "        response = input(\"what do you want to add/remove/show or quit\")\n",
    "        \n",
    "        if response.lower () ==\"quit\":\n",
    "            shopingcart.showcart()\n",
    "            print (\"Thanks for shopping\")\n",
    "            break\n",
    "        if response.lower() == \"add\":\n",
    "            shopingcart.addtocart()\n",
    "        if resposne.lower () == \"remove\":\n",
    "            shopingCart.removefromcart()\n",
    "        if response.lower () == \"show\":\n",
    "            ShoppingCart.showcart()]\n",
    "            \n",
    "            self.tickets\n",
    "            self.current"
   ]
  },
  {
   "cell_type": "code",
   "execution_count": null,
   "metadata": {},
   "outputs": [],
   "source": [
    "# indexing a dictionary\n",
    "# Similar to a list, but need to use a key in order to grab values\n",
    "\n",
    "cohort = {\n",
    "    \"Ida\": 'Software Engineer'\n",
    "    \"Carlos\": 'Data Scientist'\n",
    "    'Josey': \"UX/UI\"\n",
    "    'Terrell': \"Software Engineer\"\n",
    "}\n",
    "\n",
    "cohort[ \"Fred\"]= \"\"\n",
    "\n",
    "cohort\n",
    "if cohort ['Ida'] == 'Data Scientist':\n",
    "    print ('Talk to Ida')\n",
    "else:\n",
    "    print (\"Goodbye Ida\")\n",
    "    \n",
    "if dict ['4'] == 'paid':\n",
    "    print (\"paid\")\n",
    "else: \"\""
   ]
  },
  {
   "cell_type": "code",
   "execution_count": 10,
   "metadata": {},
   "outputs": [
    {
     "ename": "NameError",
     "evalue": "name 'Garage' is not defined",
     "output_type": "error",
     "traceback": [
      "\u001b[1;31m---------------------------------------------------------------------------\u001b[0m",
      "\u001b[1;31mNameError\u001b[0m                                 Traceback (most recent call last)",
      "\u001b[1;32m<ipython-input-10-ffa84266997f>\u001b[0m in \u001b[0;36m<module>\u001b[1;34m\u001b[0m\n\u001b[0;32m      1\u001b[0m \u001b[1;31m# Where do you put your dictionary within your class?\u001b[0m\u001b[1;33m\u001b[0m\u001b[1;33m\u001b[0m\u001b[1;33m\u001b[0m\u001b[0m\n\u001b[0;32m      2\u001b[0m \u001b[1;33m\u001b[0m\u001b[0m\n\u001b[1;32m----> 3\u001b[1;33m \u001b[0mparkingGarage\u001b[0m \u001b[1;33m=\u001b[0m \u001b[0mGarage\u001b[0m \u001b[1;33m(\u001b[0m\u001b[1;33m[\u001b[0m\u001b[1;36m1\u001b[0m\u001b[1;33m,\u001b[0m \u001b[1;36m2\u001b[0m\u001b[1;33m,\u001b[0m \u001b[1;36m3\u001b[0m\u001b[1;33m,\u001b[0m \u001b[1;36m4\u001b[0m\u001b[1;33m,\u001b[0m \u001b[1;36m5\u001b[0m\u001b[1;33m]\u001b[0m\u001b[1;33m,\u001b[0m \u001b[1;33m[\u001b[0m\u001b[1;36m1\u001b[0m\u001b[1;33m,\u001b[0m \u001b[1;36m2\u001b[0m\u001b[1;33m,\u001b[0m \u001b[1;36m3\u001b[0m\u001b[1;33m,\u001b[0m \u001b[1;36m4\u001b[0m\u001b[1;33m,\u001b[0m \u001b[1;36m5\u001b[0m\u001b[1;33m,\u001b[0m\u001b[1;33m]\u001b[0m\u001b[1;33m,\u001b[0m\u001b[1;33m{\u001b[0m\u001b[1;33m}\u001b[0m\u001b[1;33m)\u001b[0m\u001b[1;33m\u001b[0m\u001b[1;33m\u001b[0m\u001b[0m\n\u001b[0m\u001b[0;32m      4\u001b[0m \u001b[0mrunGarage\u001b[0m\u001b[1;33m(\u001b[0m\u001b[1;33m)\u001b[0m\u001b[1;33m\u001b[0m\u001b[1;33m\u001b[0m\u001b[0m\n",
      "\u001b[1;31mNameError\u001b[0m: name 'Garage' is not defined"
     ]
    }
   ],
   "source": [
    "# Where do you put your dictionary within your class?\n",
    "\n",
    "parkingGarage = Garage ([1, 2, 3, 4, 5], [1, 2, 3, 4, 5,],{})\n",
    "runGarage()"
   ]
  },
  {
   "cell_type": "code",
   "execution_count": 11,
   "metadata": {},
   "outputs": [],
   "source": [
    "# classes are uppercase. functions are camelcase\"parkingSpaces\""
   ]
  },
  {
   "cell_type": "code",
   "execution_count": null,
   "metadata": {},
   "outputs": [],
   "source": [
    "tickets = [1,2,3,4,5]\n",
    "spaces = [1,2,3,4,5]\n",
    "dict = {}\n",
    "\n",
    "dict [tickets[0]] = \"\"\n",
    "dict\n",
    "\n",
    "self.currentTicket[self.tickets[0]]\n",
    "delete self.tickets\n",
    "delete self.spaces"
   ]
  },
  {
   "cell_type": "code",
   "execution_count": null,
   "metadata": {},
   "outputs": [],
   "source": [
    "takeTicket(tickets, spaces, dictionary):\n",
    "    self.currentTickets[self.tickets[0]] = ''\n",
    "    del self.tickets[0]"
   ]
  }
 ],
 "metadata": {
  "kernelspec": {
   "display_name": "Python 3",
   "language": "python",
   "name": "python3"
  },
  "language_info": {
   "codemirror_mode": {
    "name": "ipython",
    "version": 3
   },
   "file_extension": ".py",
   "mimetype": "text/x-python",
   "name": "python",
   "nbconvert_exporter": "python",
   "pygments_lexer": "ipython3",
   "version": "3.8.3"
  }
 },
 "nbformat": 4,
 "nbformat_minor": 4
}
